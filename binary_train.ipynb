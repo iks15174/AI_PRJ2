{
 "cells": [
  {
   "cell_type": "code",
   "execution_count": 1,
   "metadata": {},
   "outputs": [],
   "source": [
    "import torch\n",
    "import torch.nn as nn\n",
    "import torchvision\n",
    "import matplotlib.pyplot as plt\n",
    "from torchvision import transforms\n",
    "from torch.utils.data import DataLoader, WeightedRandomSampler\n",
    "from torch.optim import lr_scheduler\n",
    "\n",
    "from recycle_cnn import CNN\n",
    "from recycle_pretrained_cnn import PretrainCNN\n",
    "from recycle_resnet import ResNet, BasicBlock\n",
    "from collections import Counter\n",
    "\n",
    "from tqdm import tqdm\n"
   ]
  },
  {
   "cell_type": "code",
   "execution_count": 2,
   "metadata": {},
   "outputs": [],
   "source": [
    "device = 'cuda' if torch.cuda.is_available() else 'cpu'\n",
    "torch.manual_seed(777)\n",
    "if device=='cuda':\n",
    "    torch.cuda.manual_seed_all(777)\n",
    "    \n",
    "learning_rate = 0.00001\n",
    "num_epochs = 25\n",
    "batch_size = 32\n",
    "input_size = 256"
   ]
  },
  {
   "cell_type": "code",
   "execution_count": 3,
   "metadata": {},
   "outputs": [],
   "source": [
    "trans = transforms.Compose([\n",
    "    transforms.Resize((input_size, input_size)),\n",
    "    transforms.ToTensor(),\n",
    "])\n",
    "orig_train_set = torchvision.datasets.ImageFolder('dataset_binary/train',transform=trans)\n",
    "classes = orig_train_set.classes\n",
    "\n",
    "aug_trans1 = transforms.Compose([\n",
    "    transforms.Resize((input_size, input_size)),\n",
    "    transforms.ColorJitter(brightness=0.1, contrast=0.1, saturation=0.1, hue=0.1),\n",
    "    transforms.RandomHorizontalFlip(p=1),\n",
    "    transforms.ToTensor(),\n",
    "])\n",
    "aug_trans2 = transforms.Compose([\n",
    "    transforms.Resize((input_size, input_size)),\n",
    "    transforms.ColorJitter(brightness=0.1, contrast=0.1, saturation=0.1, hue=0.1),\n",
    "    transforms.RandomVerticalFlip(p=1),\n",
    "    transforms.ToTensor(),\n",
    "])\n",
    "aug_train_set1 = torchvision.datasets.ImageFolder('dataset_binary/train', transform=aug_trans1)\n",
    "aug_train_set2 = torchvision.datasets.ImageFolder('dataset_binary/train', transform=aug_trans2)\n",
    "\n",
    "train_set = torch.utils.data.ConcatDataset([orig_train_set, aug_train_set1, aug_train_set2])\n"
   ]
  },
  {
   "cell_type": "code",
   "execution_count": 4,
   "metadata": {},
   "outputs": [],
   "source": [
    "train_size = int(0.8 * len(train_set))\n",
    "valid_size = len(train_set) - train_size\n",
    "train_set, valid_set = torch.utils.data.random_split(train_set, [train_size, valid_size])"
   ]
  },
  {
   "cell_type": "code",
   "execution_count": 5,
   "metadata": {},
   "outputs": [
    {
     "name": "stderr",
     "output_type": "stream",
     "text": [
      "100%|██████████| 5030/5030 [00:33<00:00, 149.74it/s]\n",
      "100%|██████████| 2/2 [00:00<?, ?it/s]\n",
      "100%|██████████| 5030/5030 [00:33<00:00, 148.57it/s]\n"
     ]
    }
   ],
   "source": [
    "train_len = len(train_set)\n",
    "class_weights = [0] * len(classes)\n",
    "sample_weights = [0] * train_len\n",
    "\n",
    "for idx, (data, label) in tqdm(enumerate(train_set), total=train_len):\n",
    "    class_weights[label]+=1\n",
    "for i in tqdm(range(len(classes))):\n",
    "    class_weights[i] = (train_len-class_weights[i])/train_len\n",
    "for idx, (data, label) in tqdm(enumerate(train_set), total=train_len):\n",
    "    sample_weights[idx] = class_weights[label]\n",
    "    \n",
    "sampler = WeightedRandomSampler(sample_weights, num_samples=len(sample_weights), replacement=True)\n",
    "train_loader = DataLoader(train_set, batch_size=batch_size, sampler=sampler)\n",
    "valid_loader = DataLoader(valid_set)\n"
   ]
  },
  {
   "cell_type": "code",
   "execution_count": 6,
   "metadata": {},
   "outputs": [
    {
     "name": "stdout",
     "output_type": "stream",
     "text": [
      "AlexNet(\n",
      "  (features): Sequential(\n",
      "    (0): Conv2d(3, 64, kernel_size=(11, 11), stride=(4, 4), padding=(2, 2))\n",
      "    (1): ReLU(inplace=True)\n",
      "    (2): MaxPool2d(kernel_size=3, stride=2, padding=0, dilation=1, ceil_mode=False)\n",
      "    (3): Conv2d(64, 192, kernel_size=(5, 5), stride=(1, 1), padding=(2, 2))\n",
      "    (4): ReLU(inplace=True)\n",
      "    (5): MaxPool2d(kernel_size=3, stride=2, padding=0, dilation=1, ceil_mode=False)\n",
      "    (6): Conv2d(192, 384, kernel_size=(3, 3), stride=(1, 1), padding=(1, 1))\n",
      "    (7): ReLU(inplace=True)\n",
      "    (8): Conv2d(384, 256, kernel_size=(3, 3), stride=(1, 1), padding=(1, 1))\n",
      "    (9): ReLU(inplace=True)\n",
      "    (10): Conv2d(256, 256, kernel_size=(3, 3), stride=(1, 1), padding=(1, 1))\n",
      "    (11): ReLU(inplace=True)\n",
      "    (12): MaxPool2d(kernel_size=3, stride=2, padding=0, dilation=1, ceil_mode=False)\n",
      "  )\n",
      "  (avgpool): AdaptiveAvgPool2d(output_size=(6, 6))\n",
      "  (classifier): Sequential(\n",
      "    (0): Dropout(p=0.5, inplace=False)\n",
      "    (1): Linear(in_features=9216, out_features=4096, bias=True)\n",
      "    (2): ReLU(inplace=True)\n",
      "    (3): Dropout(p=0.5, inplace=False)\n",
      "    (4): Linear(in_features=4096, out_features=4096, bias=True)\n",
      "    (5): ReLU(inplace=True)\n",
      "    (6): Linear(in_features=4096, out_features=6, bias=True)\n",
      "  )\n",
      ")\n"
     ]
    }
   ],
   "source": [
    "# model = CNN().to(device)\n",
    "# model = ResNet(BasicBlock, [2, 2, 2, 2]).to(device)\n",
    "model = PretrainCNN.to(device)\n",
    "\n",
    "print(model)"
   ]
  },
  {
   "cell_type": "code",
   "execution_count": 7,
   "metadata": {},
   "outputs": [],
   "source": [
    "criterion = torch.nn.CrossEntropyLoss().to(device)\n",
    "optimizer = torch.optim.Adam(model.parameters(), lr=learning_rate, weight_decay=0.001)\n",
    "# 7 에폭마다 0.1씩 학습률 감소\n",
    "exp_lr_scheduler = lr_scheduler.StepLR(optimizer, step_size=7, gamma=0.1)\n",
    "total_batch = len(train_loader)"
   ]
  },
  {
   "cell_type": "code",
   "execution_count": 8,
   "metadata": {},
   "outputs": [],
   "source": [
    "def train_one_epoch(data_loader):\n",
    "    model.train()\n",
    "    running_loss = 0\n",
    "    total = 0\n",
    "    correct = 0\n",
    "    for images, labels in data_loader:\n",
    "        images, labels = images.to(device), labels.to(device)\n",
    "        \n",
    "        outputs = model(images)\n",
    "        loss = criterion(outputs, labels)\n",
    "        optimizer.zero_grad()\n",
    "        loss.backward()\n",
    "        optimizer.step()\n",
    "        \n",
    "        preds = torch.max(outputs, 1)[1]\n",
    "        correct += (preds == labels).sum()\n",
    "        total += len(labels)\n",
    "        running_loss += loss.detach()\n",
    "        \n",
    "    loss = (running_loss / len(data_loader)).item()\n",
    "    accuracy = (correct * 100 / total).item()\n",
    "    return loss, accuracy\n"
   ]
  },
  {
   "cell_type": "code",
   "execution_count": 9,
   "metadata": {},
   "outputs": [],
   "source": [
    "best_valid_acc = 0\n",
    "\n",
    "def eval_one_epoch(data_loader):\n",
    "    global best_valid_acc\n",
    "    \n",
    "    correct_pred = {classname: 0 for classname in classes}\n",
    "    total_pred = {classname: 0 for classname in classes}\n",
    "    model.eval()\n",
    "    running_loss = 0\n",
    "    with torch.no_grad():\n",
    "        total = 0\n",
    "        correct = 0\n",
    "        for images, labels in data_loader:\n",
    "            images, labels = images.to(device), labels.to(device)\n",
    "\n",
    "            outputs = model(images)\n",
    "            loss = criterion(outputs, labels)\n",
    "            preds = torch.max(outputs, 1)[1]\n",
    "            correct += (preds == labels).sum()\n",
    "            \n",
    "            for label, prediction in zip(labels, preds):\n",
    "                if label == prediction:\n",
    "                    correct_pred[classes[label]] += 1\n",
    "            total_pred[classes[label]] += 1\n",
    "\n",
    "            total += len(labels)\n",
    "            running_loss += loss.detach()\n",
    "        \n",
    "        loss = (running_loss / len(data_loader)).item()\n",
    "        accuracy = (correct * 100 / total).item()\n",
    "        if accuracy > best_valid_acc:\n",
    "            torch.save(model, 'binary_best_model.pt')\n",
    "        return loss, accuracy, correct_pred, total_pred"
   ]
  },
  {
   "cell_type": "code",
   "execution_count": 10,
   "metadata": {},
   "outputs": [
    {
     "name": "stderr",
     "output_type": "stream",
     "text": [
      "epoch 25 ==> train acc: 99.60238647460938, valid acc: 98.0127182006836: 100%|██████████| 25/25 [19:46<00:00, 47.45s/it] \n"
     ]
    }
   ],
   "source": [
    "train_loss_hist = []\n",
    "train_acc_hist = []\n",
    "valid_loss_hist = []\n",
    "valid_acc_hist = [] \n",
    "\n",
    "pbar = tqdm(range(num_epochs))\n",
    "for epoch in pbar:\n",
    "    train_loss, train_acc = train_one_epoch(train_loader)\n",
    "    exp_lr_scheduler.step() # learning rate를 step마다 조절해준다.\n",
    "    train_loss_hist.append(train_loss)\n",
    "    train_acc_hist.append(train_acc)\n",
    "\n",
    "    valid_loss, valid_acc, correct_pred, total_pred = eval_one_epoch(valid_loader)\n",
    "    valid_loss_hist.append(valid_loss)\n",
    "    valid_acc_hist.append(valid_acc)\n",
    "    \n",
    "    pbar.set_description(f\"epoch {epoch+1} ==> train acc: {train_acc}, valid acc: {valid_acc}\")\n"
   ]
  },
  {
   "cell_type": "code",
   "execution_count": 11,
   "metadata": {},
   "outputs": [
    {
     "data": {
      "image/png": "[encoded data removed]",
      "text/plain": [
       "<Figure size 720x360 with 1 Axes>"
      ]
     },
     "metadata": {
      "needs_background": "light"
     },
     "output_type": "display_data"
    },
    {
     "data": {
      "image/png": "[encoded data removed]",
      "text/plain": [
       "<Figure size 720x360 with 1 Axes>"
      ]
     },
     "metadata": {
      "needs_background": "light"
     },
     "output_type": "display_data"
    }
   ],
   "source": [
    "epochs = list(range(1, num_epochs + 1))\n",
    "plt.figure(figsize=(10, 5))\n",
    "plt.plot(epochs, train_loss_hist, label='Train loss')\n",
    "plt.plot(epochs, valid_loss_hist, label='Valid loss')\n",
    "plt.xlabel(\"#Epoch\")\n",
    "plt.ylabel(\"Loss\")\n",
    "plt.xticks(epochs)\n",
    "plt.legend()\n",
    "plt.show()\n",
    "\n",
    "plt.figure(figsize=(10, 5))\n",
    "plt.plot(epochs, train_acc_hist, label='Train accuracy')\n",
    "plt.plot(epochs, valid_acc_hist, label='Valid accuracy')\n",
    "plt.xlabel(\"#Epoch\")\n",
    "plt.ylabel(\"Accuracy\")\n",
    "plt.xticks(epochs)\n",
    "plt.legend()\n",
    "plt.show()\n"
   ]
  }
 ],
 "metadata": {
  "interpreter": {
   "hash": "bf301edc063e83d8a9333de36c18b647e536995bae0eb13630c92f3816f4ccea"
  },
  "kernelspec": {
   "display_name": "Python 3.9.7 ('torch')",
   "language": "python",
   "name": "python3"
  },
  "language_info": {
   "codemirror_mode": {
    "name": "ipython",
    "version": 3
   },
   "file_extension": ".py",
   "mimetype": "text/x-python",
   "name": "python",
   "nbconvert_exporter": "python",
   "pygments_lexer": "ipython3",
   "version": "3.9.7"
  },
  "orig_nbformat": 4
 },
 "nbformat": 4,
 "nbformat_minor": 2
}
