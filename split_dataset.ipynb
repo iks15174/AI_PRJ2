{
 "cells": [
  {
   "cell_type": "code",
   "execution_count": 5,
   "metadata": {},
   "outputs": [],
   "source": [
    "import torch\n",
    "import torchvision\n",
    "from torchvision import transforms\n",
    "import os\n",
    "import shutil\n"
   ]
  },
  {
   "cell_type": "code",
   "execution_count": 6,
   "metadata": {},
   "outputs": [],
   "source": [
    "device = 'cuda' if torch.cuda.is_available() else 'cpu'\n",
    "torch.manual_seed(777)\n",
    "if device == 'cuda':\n",
    "    torch.cuda.manual_seed_all(777)\n",
    "    \n",
    "input_size = 256\n"
   ]
  },
  {
   "cell_type": "code",
   "execution_count": 7,
   "metadata": {},
   "outputs": [],
   "source": [
    "data_path = 'final_data'\n",
    "\n",
    "trans = transforms.Compose([\n",
    "    transforms.Resize((input_size, input_size)),\n",
    "    transforms.ToTensor(),\n",
    "])\n",
    "dataset = torchvision.datasets.ImageFolder(data_path, transform=trans)\n",
    "classes = dataset.classes\n"
   ]
  },
  {
   "cell_type": "code",
   "execution_count": 8,
   "metadata": {},
   "outputs": [],
   "source": [
    "target_folder = \"dataset\"\n",
    "\n",
    "shutil.rmtree(target_folder)\n",
    "if not os.path.exists(target_folder):\n",
    "    os.makedirs(target_folder)\n",
    "    os.makedirs(target_folder + '/train')\n",
    "    for s in classes:\n",
    "        os.makedirs(target_folder + '/train/' + s)\n",
    "    os.makedirs(target_folder + '/test')\n",
    "    for s in classes:\n",
    "        os.makedirs(target_folder + '/test/' + s)\n",
    "\n",
    "\n",
    "shutil.rmtree(target_folder+'_binary')\n",
    "if not os.path.exists(target_folder+'_binary'):\n",
    "    os.makedirs(target_folder+'_binary')\n",
    "    os.makedirs(target_folder+'_binary' + '/train')\n",
    "    for s in ['recycle','trash']:\n",
    "        os.makedirs(target_folder+'_binary' + '/train/' + s)\n",
    "    os.makedirs(target_folder+'_binary' + '/test')\n",
    "    for s in ['recycle','trash']:\n",
    "        os.makedirs(target_folder+'_binary' + '/test/' + s)\n"
   ]
  },
  {
   "cell_type": "code",
   "execution_count": 9,
   "metadata": {},
   "outputs": [],
   "source": [
    "data_size = int(0.8 * len(dataset))\n",
    "test_size = len(dataset) - data_size\n",
    "trainset, testset = torch.utils.data.random_split(dataset, [data_size, test_size])\n",
    "\n",
    "img_id = 0\n",
    "\n",
    "for img, label in trainset:\n",
    "    torchvision.utils.save_image(img, '%s/train/%s/%s.jpg' % (target_folder,classes[label], classes[label] + str(img_id)))\n",
    "    img_id += 1\n",
    "    \n",
    "for img, label in testset:\n",
    "    torchvision.utils.save_image(img, '%s/test/%s/%s.jpg' % (target_folder,classes[label], classes[label] + str(img_id)))\n",
    "    img_id += 1\n",
    "    \n",
    "\n",
    "def get_binary_dir(s):\n",
    "    if s=='trash':\n",
    "        return s\n",
    "    return 'recycle'\n",
    "\n",
    "\n",
    "for img, label in trainset:\n",
    "    torchvision.utils.save_image(img, '%s_binary/train/%s/%s.jpg' % (target_folder, get_binary_dir(classes[label]), classes[label] + str(img_id)))\n",
    "    img_id += 1\n",
    "\n",
    "for img, label in testset:\n",
    "    torchvision.utils.save_image(img, '%s_binary/test/%s/%s.jpg' % (target_folder, get_binary_dir(classes[label]), classes[label] + str(img_id)))\n",
    "    img_id += 1\n"
   ]
  }
 ],
 "metadata": {
  "interpreter": {
   "hash": "bf301edc063e83d8a9333de36c18b647e536995bae0eb13630c92f3816f4ccea"
  },
  "kernelspec": {
   "display_name": "Python 3.9.7 ('torch')",
   "language": "python",
   "name": "python3"
  },
  "language_info": {
   "codemirror_mode": {
    "name": "ipython",
    "version": 3
   },
   "file_extension": ".py",
   "mimetype": "text/x-python",
   "name": "python",
   "nbconvert_exporter": "python",
   "pygments_lexer": "ipython3",
   "version": "3.9.7"
  },
  "orig_nbformat": 4
 },
 "nbformat": 4,
 "nbformat_minor": 2
}
