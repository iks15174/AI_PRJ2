{
 "cells": [
  {
   "cell_type": "code",
   "execution_count": 10,
   "metadata": {},
   "outputs": [],
   "source": [
    "import torch\n",
    "import torchvision\n",
    "from torchvision import transforms"
   ]
  },
  {
   "cell_type": "code",
   "execution_count": 11,
   "metadata": {},
   "outputs": [],
   "source": [
    "device = 'cuda' if torch.cuda.is_available() else 'cpu'\n",
    "torch.manual_seed(777)\n",
    "if device == 'cuda':\n",
    "    torch.cuda.manual_seed_all(777)\n",
    "\n",
    "learning_rate = 0.00001\n",
    "num_epochs = 25\n",
    "batch_size = 32\n",
    "input_size = 256\n"
   ]
  },
  {
   "cell_type": "code",
   "execution_count": 12,
   "metadata": {},
   "outputs": [],
   "source": [
    "data_path = 'final_data'\n",
    "\n",
    "trans = transforms.Compose([\n",
    "    transforms.Resize((input_size, input_size)),\n",
    "    transforms.ToTensor(),\n",
    "])\n",
    "orig_dataset = torchvision.datasets.ImageFolder(data_path, transform=trans)\n",
    "classes = orig_dataset.classes\n",
    "\n",
    "aug_trans1 = transforms.Compose([\n",
    "    transforms.Resize((input_size, input_size)),\n",
    "    transforms.ColorJitter(brightness=0.1, contrast=0.1, saturation=0.1, hue=0.1),\n",
    "    transforms.RandomHorizontalFlip(p=1),\n",
    "    transforms.ToTensor(),\n",
    "])\n",
    "aug_trans2 = transforms.Compose([\n",
    "    transforms.Resize((input_size, input_size)),\n",
    "    transforms.ColorJitter(brightness=0.1, contrast=0.1, saturation=0.1, hue=0.1),\n",
    "    transforms.RandomVerticalFlip(p=1),\n",
    "    transforms.ToTensor(),\n",
    "])\n",
    "aug_dataset1 = torchvision.datasets.ImageFolder(data_path, transform=aug_trans1)\n",
    "aug_dataset2 = torchvision.datasets.ImageFolder(data_path, transform=aug_trans2)\n",
    "\n",
    "dataset = torch.utils.data.ConcatDataset([orig_dataset, aug_dataset1, aug_dataset2])\n"
   ]
  },
  {
   "cell_type": "code",
   "execution_count": 13,
   "metadata": {},
   "outputs": [
    {
     "data": {
      "text/plain": [
       "<torch.utils.data.dataset.Subset at 0x14ab0c4e550>"
      ]
     },
     "execution_count": 13,
     "metadata": {},
     "output_type": "execute_result"
    }
   ],
   "source": [
    "data_size = int(0.8 * len(dataset))\n",
    "test_size = len(dataset) - data_size\n",
    "dataset, testset = torch.utils.data.random_split(dataset, [data_size, test_size])\n",
    "torch.save(testset, 'testset.pt')\n",
    "testset = torch.load('testset.pt')\n",
    "testset\n"
   ]
  }
 ],
 "metadata": {
  "interpreter": {
   "hash": "bf301edc063e83d8a9333de36c18b647e536995bae0eb13630c92f3816f4ccea"
  },
  "kernelspec": {
   "display_name": "Python 3.9.7 ('torch')",
   "language": "python",
   "name": "python3"
  },
  "language_info": {
   "codemirror_mode": {
    "name": "ipython",
    "version": 3
   },
   "file_extension": ".py",
   "mimetype": "text/x-python",
   "name": "python",
   "nbconvert_exporter": "python",
   "pygments_lexer": "ipython3",
   "version": "3.9.7"
  },
  "orig_nbformat": 4
 },
 "nbformat": 4,
 "nbformat_minor": 2
}
