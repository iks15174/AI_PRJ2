{
 "cells": [
  {
   "cell_type": "code",
   "execution_count": 1,
   "metadata": {},
   "outputs": [],
   "source": [
    "import torch\n",
    "import torch.nn as nn\n",
    "import torchvision\n",
    "import matplotlib.pyplot as plt\n",
    "from torchvision import transforms\n",
    "from torch.utils.data import DataLoader\n",
    "\n",
    "from recycle_cnn import CNN\n",
    "from recycle_resnet import ResNet, BasicBlock\n"
   ]
  },
  {
   "cell_type": "code",
   "execution_count": 2,
   "metadata": {},
   "outputs": [],
   "source": [
    "device = 'cuda' if torch.cuda.is_available() else 'cpu'\n",
    "torch.manual_seed(777)\n",
    "if device=='cuda':\n",
    "    torch.cuda.manual_seed_all(777)\n",
    "    \n",
    "learning_rate = 0.0005\n",
    "epochs = 15\n",
    "batch_size = 32"
   ]
  },
  {
   "cell_type": "code",
   "execution_count": 3,
   "metadata": {},
   "outputs": [],
   "source": [
    "trans = transforms.ToTensor()\n",
    "\n",
    "train_set = torchvision.datasets.ImageFolder('data/train',transform=trans)\n",
    "train_loader = DataLoader(train_set, batch_size=batch_size, shuffle=True)"
   ]
  },
  {
   "cell_type": "code",
   "execution_count": 4,
   "metadata": {},
   "outputs": [],
   "source": [
    "valid_set = torchvision.datasets.ImageFolder('data/valid',transform=trans)\n",
    "valid_loader = DataLoader(valid_set)"
   ]
  },
  {
   "cell_type": "code",
   "execution_count": 5,
   "metadata": {},
   "outputs": [],
   "source": [
    "model = CNN().to(device)\n",
    "# model = ResNet(BasicBlock, [2, 2, 2, 2]).to(device)"
   ]
  },
  {
   "cell_type": "code",
   "execution_count": 6,
   "metadata": {},
   "outputs": [],
   "source": [
    "criterion = torch.nn.CrossEntropyLoss().to(device)\n",
    "optimizer = torch.optim.Adam(model.parameters(), lr=learning_rate, weight_decay=0.001)\n",
    "\n",
    "total_batch = len(train_loader)\n"
   ]
  },
  {
   "cell_type": "code",
   "execution_count": 7,
   "metadata": {},
   "outputs": [
    {
     "name": "stdout",
     "output_type": "stream",
     "text": [
      "CNN(\n",
      "  (act): ReLU()\n",
      "  (conv1): Conv2d(3, 32, kernel_size=(3, 3), stride=(1, 1), padding=(1, 1))\n",
      "  (bn1): BatchNorm2d(32, eps=1e-05, momentum=0.1, affine=True, track_running_stats=True)\n",
      "  (pool1): MaxPool2d(kernel_size=2, stride=2, padding=0, dilation=1, ceil_mode=False)\n",
      "  (conv2): Conv2d(32, 32, kernel_size=(3, 3), stride=(1, 1), padding=(1, 1))\n",
      "  (bn2): BatchNorm2d(32, eps=1e-05, momentum=0.1, affine=True, track_running_stats=True)\n",
      "  (pool2): MaxPool2d(kernel_size=2, stride=2, padding=0, dilation=1, ceil_mode=False)\n",
      "  (conv3): Conv2d(32, 32, kernel_size=(3, 3), stride=(1, 1), padding=(1, 1))\n",
      "  (bn3): BatchNorm2d(32, eps=1e-05, momentum=0.1, affine=True, track_running_stats=True)\n",
      "  (pool3): MaxPool2d(kernel_size=2, stride=2, padding=0, dilation=1, ceil_mode=False)\n",
      "  (conv4): Conv2d(32, 32, kernel_size=(3, 3), stride=(1, 1), padding=(1, 1))\n",
      "  (bn4): BatchNorm2d(32, eps=1e-05, momentum=0.1, affine=True, track_running_stats=True)\n",
      "  (pool4): MaxPool2d(kernel_size=2, stride=2, padding=0, dilation=1, ceil_mode=False)\n",
      "  (fc1): Linear(in_features=24576, out_features=128, bias=True)\n",
      "  (drop): Dropout(p=0.3, inplace=False)\n",
      "  (fc2): Linear(in_features=128, out_features=6, bias=True)\n",
      ")\n"
     ]
    }
   ],
   "source": [
    "print(model)"
   ]
  },
  {
   "cell_type": "code",
   "execution_count": 8,
   "metadata": {},
   "outputs": [],
   "source": [
    "def train_one_epoch(data_loader):\n",
    "    model.train()\n",
    "    running_loss = 0\n",
    "    total = 0\n",
    "    correct = 0\n",
    "    for images, labels in data_loader:\n",
    "        images, labels = images.to(device), labels.to(device)\n",
    "        \n",
    "        outputs = model(images)\n",
    "        loss = criterion(outputs, labels)\n",
    "        optimizer.zero_grad()\n",
    "        loss.backward()\n",
    "        optimizer.step()\n",
    "        \n",
    "        preds = torch.max(outputs, 1)[1]\n",
    "        correct += (preds == labels).sum()\n",
    "        total += len(labels)\n",
    "        running_loss += loss.detach()\n",
    "        \n",
    "    loss = (running_loss / len(data_loader)).item()\n",
    "    accuracy = (correct * 100 / total).item()\n",
    "    return loss, accuracy\n"
   ]
  },
  {
   "cell_type": "code",
   "execution_count": 9,
   "metadata": {},
   "outputs": [],
   "source": [
    "def eval_one_epoch(data_loader):\n",
    "    model.eval()\n",
    "    running_loss = 0\n",
    "    with torch.no_grad():\n",
    "        total = 0\n",
    "        correct = 0\n",
    "        for images, labels in data_loader:\n",
    "            images, labels = images.to(device), labels.to(device)\n",
    "\n",
    "            outputs = model(images)\n",
    "            loss = criterion(outputs, labels)\n",
    "            preds = torch.max(outputs, 1)[1]\n",
    "            correct += (preds == labels).sum()\n",
    "\n",
    "            total += len(labels)\n",
    "            running_loss += loss.detach()\n",
    "        \n",
    "        loss = (running_loss / len(data_loader)).item()\n",
    "        accuracy = (correct * 100 / total).item()\n",
    "        return loss, accuracy"
   ]
  },
  {
   "cell_type": "code",
   "execution_count": 10,
   "metadata": {},
   "outputs": [
    {
     "name": "stdout",
     "output_type": "stream",
     "text": [
      "Epoch: 0\n",
      "Train Loss: 4.6284098625183105, accuracy: 40.2714958190918\n",
      "Valid loss: 1.5701662302017212, accuracy: 49.39024353027344\n",
      "Epoch: 1\n",
      "Train Loss: 1.820662260055542, accuracy: 54.128963470458984\n",
      "Valid loss: 1.4531373977661133, accuracy: 57.92682647705078\n",
      "Epoch: 2\n",
      "Train Loss: 1.22825288772583, accuracy: 61.42534255981445\n",
      "Valid loss: 2.084296226501465, accuracy: 43.90243911743164\n",
      "Epoch: 3\n",
      "Train Loss: 1.0489739179611206, accuracy: 67.08145141601562\n",
      "Valid loss: 1.4877636432647705, accuracy: 56.097557067871094\n",
      "Epoch: 4\n",
      "Train Loss: 1.0000585317611694, accuracy: 68.6651611328125\n",
      "Valid loss: 1.535834789276123, accuracy: 57.01219177246094\n",
      "Epoch: 5\n",
      "Train Loss: 0.8428905010223389, accuracy: 72.398193359375\n",
      "Valid loss: 1.693219780921936, accuracy: 60.06097412109375\n",
      "Epoch: 6\n",
      "Train Loss: 0.6230665445327759, accuracy: 78.90271759033203\n",
      "Valid loss: 1.4568202495574951, accuracy: 59.75609588623047\n",
      "Epoch: 7\n",
      "Train Loss: 0.49935659766197205, accuracy: 82.01358032226562\n",
      "Valid loss: 1.4499297142028809, accuracy: 63.41463088989258\n",
      "Epoch: 8\n",
      "Train Loss: 0.42385607957839966, accuracy: 85.01131439208984\n",
      "Valid loss: 1.478515863418579, accuracy: 62.19511795043945\n",
      "Epoch: 9\n",
      "Train Loss: 0.35636308789253235, accuracy: 87.27375793457031\n",
      "Valid loss: 2.0284981727600098, accuracy: 53.96341323852539\n",
      "Epoch: 10\n",
      "Train Loss: 0.40613994002342224, accuracy: 85.91629028320312\n",
      "Valid loss: 1.4450912475585938, accuracy: 60.975608825683594\n",
      "Epoch: 11\n",
      "Train Loss: 0.2542773485183716, accuracy: 90.32805633544922\n",
      "Valid loss: 1.6949580907821655, accuracy: 59.75609588623047\n",
      "Epoch: 12\n",
      "Train Loss: 0.1734703630208969, accuracy: 94.45701599121094\n",
      "Valid loss: 1.3278414011001587, accuracy: 64.0243911743164\n",
      "Epoch: 13\n",
      "Train Loss: 0.31478047370910645, accuracy: 89.47964477539062\n",
      "Valid loss: 1.6354179382324219, accuracy: 61.280487060546875\n",
      "Epoch: 14\n",
      "Train Loss: 0.16191254556179047, accuracy: 94.62670135498047\n",
      "Valid loss: 1.9269993305206299, accuracy: 61.585365295410156\n"
     ]
    }
   ],
   "source": [
    "train_loss_hist = []\n",
    "train_acc_hist = []\n",
    "valid_loss_hist = []\n",
    "valid_acc_hist = [] \n",
    "for epoch in range(epochs):\n",
    "    train_loss, train_acc = train_one_epoch(train_loader)\n",
    "    train_loss_hist.append(train_loss)\n",
    "    train_acc_hist.append(train_acc)\n",
    "\n",
    "    valid_loss, valid_acc = eval_one_epoch(valid_loader)\n",
    "    valid_loss_hist.append(valid_loss)\n",
    "    valid_acc_hist.append(valid_acc)\n",
    "    print(f\"Epoch: {epoch}\\nTrain Loss: {train_loss_hist[-1]}, accuracy: {train_acc_hist[-1]}\\n\"+\n",
    "        f\"Valid loss: {valid_loss_hist[-1]}, accuracy: {valid_acc_hist[-1]}\")\n"
   ]
  },
  {
   "cell_type": "code",
   "execution_count": 11,
   "metadata": {},
   "outputs": [
    {
     "data": {
      "image/png": "[encoded data removed]",
      "text/plain": [
       "<Figure size 432x288 with 1 Axes>"
      ]
     },
     "metadata": {
      "needs_background": "light"
     },
     "output_type": "display_data"
    },
    {
     "data": {
      "image/png": "[encoded data removed]",
      "text/plain": [
       "<Figure size 432x288 with 1 Axes>"
      ]
     },
     "metadata": {
      "needs_background": "light"
     },
     "output_type": "display_data"
    }
   ],
   "source": [
    "epochs = list(range(1, epochs + 1))\n",
    "plt.plot(epochs, train_loss_hist, label='Train loss')\n",
    "plt.plot(epochs, valid_loss_hist, label='Valid loss')\n",
    "plt.xlabel(\"#Epoch\")\n",
    "plt.ylabel(\"Loss\")\n",
    "plt.xticks(epochs)\n",
    "plt.legend()\n",
    "plt.show()\n",
    "\n",
    "plt.plot(epochs, train_acc_hist, label='Train accuracy')\n",
    "plt.plot(epochs, valid_acc_hist, label='Valid accuracy')\n",
    "plt.xlabel(\"#Epoch\")\n",
    "plt.ylabel(\"Accuracy\")\n",
    "plt.xticks(epochs)\n",
    "plt.show()\n"
   ]
  },
  {
   "cell_type": "code",
   "execution_count": 12,
   "metadata": {},
   "outputs": [],
   "source": [
    "torch.save(model, 'model.pt')"
   ]
  }
 ],
 "metadata": {
  "interpreter": {
   "hash": "bf301edc063e83d8a9333de36c18b647e536995bae0eb13630c92f3816f4ccea"
  },
  "kernelspec": {
   "display_name": "Python 3.9.7 ('torch')",
   "language": "python",
   "name": "python3"
  },
  "language_info": {
   "codemirror_mode": {
    "name": "ipython",
    "version": 3
   },
   "file_extension": ".py",
   "mimetype": "text/x-python",
   "name": "python",
   "nbconvert_exporter": "python",
   "pygments_lexer": "ipython3",
   "version": "3.9.7"
  },
  "orig_nbformat": 4
 },
 "nbformat": 4,
 "nbformat_minor": 2
}
