{
 "cells": [
  {
   "cell_type": "code",
   "execution_count": null,
   "metadata": {},
   "outputs": [],
   "source": [
    "import torch\n",
    "import torch.nn as nn\n",
    "import torchvision\n",
    "import matplotlib.pyplot as plt\n",
    "from torchvision import transforms\n",
    "from torch.utils.data import DataLoader, WeightedRandomSampler, Dataset\n",
    "from torch.optim import lr_scheduler\n",
    "from model import CNN, BasicBlock, ResNet, PretrainedAlexnet, PretrainedAlexnet_binary, PretrainedResnet, PretrainedResnet_binary\n",
    "from tqdm import tqdm\n"
   ]
  },
  {
   "cell_type": "code",
   "execution_count": null,
   "metadata": {},
   "outputs": [],
   "source": [
    "device = 'cuda' if torch.cuda.is_available() else 'cpu'\n",
    "torch.manual_seed(777)\n",
    "if device=='cuda':\n",
    "    torch.cuda.manual_seed_all(777)\n",
    "    \n",
    "learning_rate = 1e-4\n",
    "num_epochs = 15\n",
    "batch_size = 32\n",
    "input_size = 224\n",
    "\n",
    "datapath = 'dataset'"
   ]
  },
  {
   "cell_type": "code",
   "execution_count": null,
   "metadata": {},
   "outputs": [],
   "source": [
    "is_binary = False\n",
    "if is_binary:\n",
    "    datapath = 'dataset_binary'"
   ]
  },
  {
   "cell_type": "code",
   "execution_count": null,
   "metadata": {},
   "outputs": [],
   "source": [
    "class CustomDataset(Dataset):\n",
    "    def __init__(self, imgs, transform=None):\n",
    "        self.imgs = imgs\n",
    "        self.transform = transform\n",
    "\n",
    "    def __len__(self):\n",
    "        return len(self.imgs)\n",
    "\n",
    "    def __getitem__(self, idx):\n",
    "        img = self.imgs[idx][0]\n",
    "        if self.transform:\n",
    "            img = self.transform(img)\n",
    "\n",
    "        return img, self.imgs[idx][1]\n"
   ]
  },
  {
   "cell_type": "code",
   "execution_count": null,
   "metadata": {},
   "outputs": [],
   "source": [
    "trans = transforms.Resize((input_size, input_size))\n",
    "train_set = torchvision.datasets.ImageFolder(datapath+'/train', transform=trans)\n",
    "classes = train_set.classes\n"
   ]
  },
  {
   "cell_type": "code",
   "execution_count": null,
   "metadata": {},
   "outputs": [],
   "source": [
    "train_size = int(0.8 * len(train_set))\n",
    "valid_size = len(train_set) - train_size\n",
    "train_set, valid_set = torch.utils.data.random_split(train_set, [train_size, valid_size])\n"
   ]
  },
  {
   "cell_type": "code",
   "execution_count": null,
   "metadata": {},
   "outputs": [],
   "source": [
    "train_set = CustomDataset(train_set, transforms.Compose([\n",
    "    transforms.Resize((input_size, input_size)),\n",
    "    transforms.RandomVerticalFlip(p=0.3),\n",
    "    transforms.RandomHorizontalFlip(p=0.3),\n",
    "    transforms.ToTensor(),\n",
    "]))\n",
    "valid_set = CustomDataset(valid_set, transforms.Compose([\n",
    "    transforms.Resize((input_size, input_size)),\n",
    "    transforms.ToTensor(),\n",
    "]))\n"
   ]
  },
  {
   "cell_type": "code",
   "execution_count": null,
   "metadata": {},
   "outputs": [],
   "source": [
    "train_len = len(train_set)\n",
    "class_weights = [0] * len(classes)\n",
    "sample_weights = [0] * train_len\n",
    "\n",
    "for idx, (data, label) in tqdm(enumerate(train_set), total=train_len):\n",
    "    class_weights[label]+=1\n",
    "for i in tqdm(range(len(classes))):\n",
    "    class_weights[i] = (train_len-class_weights[i])/train_len\n",
    "for idx, (data, label) in tqdm(enumerate(train_set), total=train_len):\n",
    "    sample_weights[idx] = class_weights[label]\n",
    "\n",
    "sampler = WeightedRandomSampler(sample_weights, num_samples=len(sample_weights), replacement=True)\n",
    "train_loader = DataLoader(train_set, batch_size=batch_size, sampler=sampler)\n",
    "valid_loader = DataLoader(valid_set)\n"
   ]
  },
  {
   "cell_type": "code",
   "execution_count": null,
   "metadata": {},
   "outputs": [],
   "source": [
    "# model = CNN().to(device)\n",
    "# model = ResNet(BasicBlock, [2, 2, 2, 2]).to(device)\n",
    "# model = PretrainedAlexnet.to(device)\n",
    "model = PretrainedResnet.to(device)\n",
    "if is_binary:\n",
    "    model = PretrainedResnet_binary.to(device)\n",
    "\n",
    "print(model)\n"
   ]
  },
  {
   "cell_type": "code",
   "execution_count": null,
   "metadata": {},
   "outputs": [],
   "source": [
    "criterion = torch.nn.CrossEntropyLoss().to(device)\n",
    "optimizer = torch.optim.Adam(model.parameters(), lr=learning_rate, weight_decay=0.001)\n",
    "# 7 에폭마다 0.1씩 학습률 감소\n",
    "exp_lr_scheduler = lr_scheduler.StepLR(optimizer, step_size=5, gamma=0.5)\n",
    "total_batch = len(train_loader)"
   ]
  },
  {
   "cell_type": "code",
   "execution_count": null,
   "metadata": {},
   "outputs": [],
   "source": [
    "def train_one_epoch(data_loader):\n",
    "    model.train()\n",
    "    running_loss = 0\n",
    "    total = 0\n",
    "    correct = 0\n",
    "    for images, labels in data_loader:\n",
    "        images, labels = images.to(device), labels.to(device)\n",
    "        \n",
    "        outputs = model(images)\n",
    "        loss = criterion(outputs, labels)\n",
    "        optimizer.zero_grad()\n",
    "        loss.backward()\n",
    "        optimizer.step()\n",
    "        \n",
    "        preds = torch.max(outputs, 1)[1]\n",
    "        correct += (preds == labels).sum()\n",
    "        total += len(labels)\n",
    "        running_loss += loss.detach()\n",
    "        \n",
    "    loss = (running_loss / len(data_loader)).item()\n",
    "    accuracy = (correct * 100 / total).item()\n",
    "    return loss, accuracy\n"
   ]
  },
  {
   "cell_type": "code",
   "execution_count": null,
   "metadata": {},
   "outputs": [],
   "source": [
    "best_valid_acc = 0\n",
    "\n",
    "def eval_one_epoch(data_loader):\n",
    "    global best_valid_acc\n",
    "    \n",
    "    correct_pred = {classname: 0 for classname in classes}\n",
    "    total_pred = {classname: 0 for classname in classes}\n",
    "    model.eval()\n",
    "    running_loss = 0\n",
    "    with torch.no_grad():\n",
    "        total = 0\n",
    "        correct = 0\n",
    "        for images, labels in data_loader:\n",
    "            images, labels = images.to(device), labels.to(device)\n",
    "\n",
    "            outputs = model(images)\n",
    "            loss = criterion(outputs, labels)\n",
    "            preds = torch.max(outputs, 1)[1]\n",
    "            correct += (preds == labels).sum()\n",
    "            \n",
    "            for label, prediction in zip(labels, preds):\n",
    "                if label == prediction:\n",
    "                    correct_pred[classes[label]] += 1\n",
    "            total_pred[classes[label]] += 1\n",
    "\n",
    "            total += len(labels)\n",
    "            running_loss += loss.detach()\n",
    "        \n",
    "        loss = (running_loss / len(data_loader)).item()\n",
    "        accuracy = (correct * 100 / total).item()\n",
    "        if accuracy > best_valid_acc:\n",
    "            if not is_binary:\n",
    "                torch.save(model, 'best_model.pt')\n",
    "            else:\n",
    "                torch.save(model, 'best_model_binary.pt')\n",
    "        return loss, accuracy, correct_pred, total_pred"
   ]
  },
  {
   "cell_type": "code",
   "execution_count": null,
   "metadata": {},
   "outputs": [],
   "source": [
    "train_loss_hist = []\n",
    "train_acc_hist = []\n",
    "valid_loss_hist = []\n",
    "valid_acc_hist = [] \n",
    "valid_class_acc_hist = {classname: [] for classname in classes}\n",
    "\n",
    "pbar = tqdm(range(num_epochs))\n",
    "for epoch in pbar:\n",
    "    train_loss, train_acc = train_one_epoch(train_loader)\n",
    "    exp_lr_scheduler.step() # learning rate를 step마다 조절해준다.\n",
    "    train_loss_hist.append(train_loss)\n",
    "    train_acc_hist.append(train_acc)\n",
    "\n",
    "    valid_loss, valid_acc, correct_pred, total_pred = eval_one_epoch(valid_loader)\n",
    "    valid_loss_hist.append(valid_loss)\n",
    "    valid_acc_hist.append(valid_acc)\n",
    "    \n",
    "    for classname, correct_count in correct_pred.items():\n",
    "        accuracy = 100 * float(correct_count) / total_pred[classname]\n",
    "        valid_class_acc_hist[classname].append(accuracy)\n",
    "        \n",
    "    pbar.set_description(f\"epoch {epoch+1} ==> train acc: {train_acc}, valid acc: {valid_acc}\")\n"
   ]
  },
  {
   "cell_type": "code",
   "execution_count": null,
   "metadata": {},
   "outputs": [],
   "source": [
    "epochs = list(range(1, num_epochs + 1))\n",
    "plt.figure(figsize=(10, 5))\n",
    "plt.plot(epochs, train_loss_hist, label='Train loss')\n",
    "plt.plot(epochs, valid_loss_hist, label='Valid loss')\n",
    "plt.xlabel(\"#Epoch\")\n",
    "plt.ylabel(\"Loss\")\n",
    "plt.xticks(epochs)\n",
    "plt.legend()\n",
    "plt.show()\n",
    "\n",
    "plt.figure(figsize=(10, 5))\n",
    "plt.plot(epochs, train_acc_hist, label='Train accuracy')\n",
    "plt.plot(epochs, valid_acc_hist, label='Valid accuracy')\n",
    "plt.xlabel(\"#Epoch\")\n",
    "plt.ylabel(\"Accuracy\")\n",
    "plt.xticks(epochs)\n",
    "plt.legend()\n",
    "plt.show()\n",
    "\n",
    "plt.figure(figsize=(10, 5))\n",
    "for classname, accuracy in valid_class_acc_hist.items():\n",
    "    plt.plot(epochs, accuracy, label='%s' % classname)\n",
    "plt.xlabel(\"#Epoch\")\n",
    "plt.ylabel(\"Accuracy\")\n",
    "plt.xticks(epochs)\n",
    "plt.legend()\n",
    "plt.show()\n"
   ]
  }
 ],
 "metadata": {
  "interpreter": {
   "hash": "bf301edc063e83d8a9333de36c18b647e536995bae0eb13630c92f3816f4ccea"
  },
  "kernelspec": {
   "display_name": "Python 3.9.7 ('torch')",
   "language": "python",
   "name": "python3"
  },
  "language_info": {
   "codemirror_mode": {
    "name": "ipython",
    "version": 3
   },
   "file_extension": ".py",
   "mimetype": "text/x-python",
   "name": "python",
   "nbconvert_exporter": "python",
   "pygments_lexer": "ipython3",
   "version": "3.9.7"
  },
  "orig_nbformat": 4
 },
 "nbformat": 4,
 "nbformat_minor": 2
}
