{
 "cells": [
  {
   "cell_type": "code",
   "execution_count": 15,
   "metadata": {},
   "outputs": [],
   "source": [
    "import torch\n",
    "import torch.nn as nn\n",
    "import torchvision\n",
    "import matplotlib.pyplot as plt\n",
    "from torchvision import transforms\n",
    "from torch.utils.data import DataLoader, WeightedRandomSampler, Dataset\n",
    "from torch.optim import lr_scheduler\n",
    "from model import CNN, BasicBlock, ResNet, PretrainedAlexnet, PretrainedAlexnet_binary, PretrainedResnet, PretrainedResnet_binary\n",
    "from tqdm import tqdm\n"
   ]
  },
  {
   "cell_type": "code",
   "execution_count": 16,
   "metadata": {},
   "outputs": [],
   "source": [
    "device = 'cuda' if torch.cuda.is_available() else 'cpu'\n",
    "torch.manual_seed(777)\n",
    "if device=='cuda':\n",
    "    torch.cuda.manual_seed_all(777)\n",
    "    \n",
    "learning_rate = 1e-4\n",
    "num_epochs = 15\n",
    "batch_size = 32\n",
    "input_size = 224 # CNN 모델은 input_size가 227이고 나머지 모델은 224이다.\n",
    "\n",
    "datapath = 'dataset' # train, test data가 있는 폴더 경로이다."
   ]
  },
  {
   "cell_type": "code",
   "execution_count": 17,
   "metadata": {},
   "outputs": [],
   "source": [
    "is_binary = True # is_binary가 True이면 [일반쓰레기, 일반 쓰레기가 아닌 것] 두 개의 class로 분류하는 binary classifier를 학습한다.\n",
    "if is_binary:\n",
    "    datapath = 'dataset_binary'"
   ]
  },
  {
   "cell_type": "code",
   "execution_count": 18,
   "metadata": {},
   "outputs": [],
   "source": [
    "# 데이터 augmentation을 위하여 CustomDataset class를 정의하였다.\n",
    "class CustomDataset(Dataset):\n",
    "    def __init__(self, imgs, transform=None):\n",
    "        self.imgs = imgs\n",
    "        self.transform = transform\n",
    "\n",
    "    def __len__(self):\n",
    "        return len(self.imgs)\n",
    "\n",
    "    def __getitem__(self, idx):\n",
    "        img = self.imgs[idx][0]\n",
    "        if self.transform:\n",
    "            img = self.transform(img)\n",
    "\n",
    "        return img, self.imgs[idx][1]\n"
   ]
  },
  {
   "cell_type": "code",
   "execution_count": 19,
   "metadata": {},
   "outputs": [],
   "source": [
    "# 전체 이미지 데이터를 가져온다. 이미지를 가져올 때 위에서 정의한 input_size롤 resize 해서 가져온다.\n",
    "# is_binary에 따라 datapath가 달라진다. \n",
    "# is_binary가 True이면 dataset_binary 폴더에서 [recycle, trash] 두 가지 클래스를 가지는 이미지 데이터를 가져온다.\n",
    "# is_binary가 False이면 dataset 폴더에서 [cardboard, glass, metal, paper, plastic, trash] 6가지 클래스를 가지는 이미지 데이터를 가져온다.\n",
    "trans = transforms.Resize((input_size, input_size))\n",
    "train_set = torchvision.datasets.ImageFolder(datapath+'/train', transform=trans)\n",
    "classes = train_set.classes"
   ]
  },
  {
   "cell_type": "code",
   "execution_count": 20,
   "metadata": {},
   "outputs": [],
   "source": [
    "# 가져온 이미지 데이터를 train 데이터와 validation 데이터로 나눈다.\n",
    "train_size = int(0.8 * len(train_set))\n",
    "valid_size = len(train_set) - train_size\n",
    "train_set, valid_set = torch.utils.data.random_split(train_set, [train_size, valid_size])"
   ]
  },
  {
   "cell_type": "code",
   "execution_count": 21,
   "metadata": {},
   "outputs": [],
   "source": [
    "# train 데이터에 augmentation을 적용한다.\n",
    "train_set = CustomDataset(train_set, transforms.Compose([\n",
    "    transforms.RandomVerticalFlip(p=0.3),\n",
    "    transforms.RandomHorizontalFlip(p=0.3),\n",
    "    transforms.ToTensor(),\n",
    "]))\n",
    "\n",
    "# validation 데이터는 tensor로만 변경해준다..\n",
    "valid_set = CustomDataset(valid_set, transforms.Compose([\n",
    "    transforms.ToTensor(),\n",
    "]))\n"
   ]
  },
  {
   "cell_type": "code",
   "execution_count": 22,
   "metadata": {},
   "outputs": [
    {
     "name": "stderr",
     "output_type": "stream",
     "text": [
      "100%|██████████| 1638/1638 [00:09<00:00, 170.27it/s]\n",
      "100%|██████████| 2/2 [00:00<?, ?it/s]\n",
      "100%|██████████| 1638/1638 [00:08<00:00, 182.71it/s]\n"
     ]
    }
   ],
   "source": [
    "train_len = len(train_set)\n",
    "class_weights = [0] * len(classes)\n",
    "sample_weights = [0] * train_len\n",
    "\n",
    "for idx, (data, label) in tqdm(enumerate(train_set), total=train_len):\n",
    "    class_weights[label]+=1\n",
    "for i in tqdm(range(len(classes))):\n",
    "    class_weights[i] = (train_len-class_weights[i])/train_len\n",
    "for idx, (data, label) in tqdm(enumerate(train_set), total=train_len):\n",
    "    sample_weights[idx] = class_weights[label]\n",
    "\n",
    "# 이미지 데이터의 class별 데이터 수가 불균형하기 때문에 WeightedRandomSampler를 적용한다.\n",
    "# 각 class별 weight은 ((전체 데이터 수) - (해당 class 데이터 수)) / (전체 데이터 수) 를 통해 \n",
    "# 해당 class에 데이터가 더 많을 수록 더 작은 값을 가지도록 했다.\n",
    "sampler = WeightedRandomSampler(sample_weights, num_samples=len(sample_weights), replacement=True)\n",
    "train_loader = DataLoader(train_set, batch_size=batch_size, sampler=sampler)\n",
    "valid_loader = DataLoader(valid_set)\n"
   ]
  },
  {
   "cell_type": "code",
   "execution_count": 23,
   "metadata": {},
   "outputs": [
    {
     "name": "stdout",
     "output_type": "stream",
     "text": [
      "ResNet(\n",
      "  (conv1): Conv2d(3, 64, kernel_size=(7, 7), stride=(2, 2), padding=(3, 3), bias=False)\n",
      "  (bn1): BatchNorm2d(64, eps=1e-05, momentum=0.1, affine=True, track_running_stats=True)\n",
      "  (relu): ReLU(inplace=True)\n",
      "  (maxpool): MaxPool2d(kernel_size=3, stride=2, padding=1, dilation=1, ceil_mode=False)\n",
      "  (layer1): Sequential(\n",
      "    (0): BasicBlock(\n",
      "      (conv1): Conv2d(64, 64, kernel_size=(3, 3), stride=(1, 1), padding=(1, 1), bias=False)\n",
      "      (bn1): BatchNorm2d(64, eps=1e-05, momentum=0.1, affine=True, track_running_stats=True)\n",
      "      (relu): ReLU(inplace=True)\n",
      "      (conv2): Conv2d(64, 64, kernel_size=(3, 3), stride=(1, 1), padding=(1, 1), bias=False)\n",
      "      (bn2): BatchNorm2d(64, eps=1e-05, momentum=0.1, affine=True, track_running_stats=True)\n",
      "    )\n",
      "    (1): BasicBlock(\n",
      "      (conv1): Conv2d(64, 64, kernel_size=(3, 3), stride=(1, 1), padding=(1, 1), bias=False)\n",
      "      (bn1): BatchNorm2d(64, eps=1e-05, momentum=0.1, affine=True, track_running_stats=True)\n",
      "      (relu): ReLU(inplace=True)\n",
      "      (conv2): Conv2d(64, 64, kernel_size=(3, 3), stride=(1, 1), padding=(1, 1), bias=False)\n",
      "      (bn2): BatchNorm2d(64, eps=1e-05, momentum=0.1, affine=True, track_running_stats=True)\n",
      "    )\n",
      "  )\n",
      "  (layer2): Sequential(\n",
      "    (0): BasicBlock(\n",
      "      (conv1): Conv2d(64, 128, kernel_size=(3, 3), stride=(2, 2), padding=(1, 1), bias=False)\n",
      "      (bn1): BatchNorm2d(128, eps=1e-05, momentum=0.1, affine=True, track_running_stats=True)\n",
      "      (relu): ReLU(inplace=True)\n",
      "      (conv2): Conv2d(128, 128, kernel_size=(3, 3), stride=(1, 1), padding=(1, 1), bias=False)\n",
      "      (bn2): BatchNorm2d(128, eps=1e-05, momentum=0.1, affine=True, track_running_stats=True)\n",
      "      (downsample): Sequential(\n",
      "        (0): Conv2d(64, 128, kernel_size=(1, 1), stride=(2, 2), bias=False)\n",
      "        (1): BatchNorm2d(128, eps=1e-05, momentum=0.1, affine=True, track_running_stats=True)\n",
      "      )\n",
      "    )\n",
      "    (1): BasicBlock(\n",
      "      (conv1): Conv2d(128, 128, kernel_size=(3, 3), stride=(1, 1), padding=(1, 1), bias=False)\n",
      "      (bn1): BatchNorm2d(128, eps=1e-05, momentum=0.1, affine=True, track_running_stats=True)\n",
      "      (relu): ReLU(inplace=True)\n",
      "      (conv2): Conv2d(128, 128, kernel_size=(3, 3), stride=(1, 1), padding=(1, 1), bias=False)\n",
      "      (bn2): BatchNorm2d(128, eps=1e-05, momentum=0.1, affine=True, track_running_stats=True)\n",
      "    )\n",
      "  )\n",
      "  (layer3): Sequential(\n",
      "    (0): BasicBlock(\n",
      "      (conv1): Conv2d(128, 256, kernel_size=(3, 3), stride=(2, 2), padding=(1, 1), bias=False)\n",
      "      (bn1): BatchNorm2d(256, eps=1e-05, momentum=0.1, affine=True, track_running_stats=True)\n",
      "      (relu): ReLU(inplace=True)\n",
      "      (conv2): Conv2d(256, 256, kernel_size=(3, 3), stride=(1, 1), padding=(1, 1), bias=False)\n",
      "      (bn2): BatchNorm2d(256, eps=1e-05, momentum=0.1, affine=True, track_running_stats=True)\n",
      "      (downsample): Sequential(\n",
      "        (0): Conv2d(128, 256, kernel_size=(1, 1), stride=(2, 2), bias=False)\n",
      "        (1): BatchNorm2d(256, eps=1e-05, momentum=0.1, affine=True, track_running_stats=True)\n",
      "      )\n",
      "    )\n",
      "    (1): BasicBlock(\n",
      "      (conv1): Conv2d(256, 256, kernel_size=(3, 3), stride=(1, 1), padding=(1, 1), bias=False)\n",
      "      (bn1): BatchNorm2d(256, eps=1e-05, momentum=0.1, affine=True, track_running_stats=True)\n",
      "      (relu): ReLU(inplace=True)\n",
      "      (conv2): Conv2d(256, 256, kernel_size=(3, 3), stride=(1, 1), padding=(1, 1), bias=False)\n",
      "      (bn2): BatchNorm2d(256, eps=1e-05, momentum=0.1, affine=True, track_running_stats=True)\n",
      "    )\n",
      "  )\n",
      "  (layer4): Sequential(\n",
      "    (0): BasicBlock(\n",
      "      (conv1): Conv2d(256, 512, kernel_size=(3, 3), stride=(2, 2), padding=(1, 1), bias=False)\n",
      "      (bn1): BatchNorm2d(512, eps=1e-05, momentum=0.1, affine=True, track_running_stats=True)\n",
      "      (relu): ReLU(inplace=True)\n",
      "      (conv2): Conv2d(512, 512, kernel_size=(3, 3), stride=(1, 1), padding=(1, 1), bias=False)\n",
      "      (bn2): BatchNorm2d(512, eps=1e-05, momentum=0.1, affine=True, track_running_stats=True)\n",
      "      (downsample): Sequential(\n",
      "        (0): Conv2d(256, 512, kernel_size=(1, 1), stride=(2, 2), bias=False)\n",
      "        (1): BatchNorm2d(512, eps=1e-05, momentum=0.1, affine=True, track_running_stats=True)\n",
      "      )\n",
      "    )\n",
      "    (1): BasicBlock(\n",
      "      (conv1): Conv2d(512, 512, kernel_size=(3, 3), stride=(1, 1), padding=(1, 1), bias=False)\n",
      "      (bn1): BatchNorm2d(512, eps=1e-05, momentum=0.1, affine=True, track_running_stats=True)\n",
      "      (relu): ReLU(inplace=True)\n",
      "      (conv2): Conv2d(512, 512, kernel_size=(3, 3), stride=(1, 1), padding=(1, 1), bias=False)\n",
      "      (bn2): BatchNorm2d(512, eps=1e-05, momentum=0.1, affine=True, track_running_stats=True)\n",
      "    )\n",
      "  )\n",
      "  (avgpool): AdaptiveAvgPool2d(output_size=(1, 1))\n",
      "  (fc): Linear(in_features=512, out_features=2, bias=True)\n",
      ")\n"
     ]
    }
   ],
   "source": [
    "# 학습시키려는 모델을 선택해서 사용할 수 있다.\n",
    "# CNN: 직접 설계한 CNN, Resnet: 직접 설계한 Resnet, \n",
    "# PretrainedAlexnet: pretrained된 alexnet, PretrainedResnet: pretrained된 resnet\n",
    "# PretrainedResnet_binary: binary classify를 위한 pretrained resnet 이다.\n",
    "\n",
    "# model = CNN().to(device)\n",
    "# model = ResNet(BasicBlock, [2, 2, 2, 2]).to(device)\n",
    "model = PretrainedAlexnet.to(device)\n",
    "# model = PretrainedResnet.to(device)\n",
    "if is_binary:\n",
    "    model = PretrainedResnet_binary.to(device)\n",
    "\n",
    "print(model)\n"
   ]
  },
  {
   "cell_type": "code",
   "execution_count": 24,
   "metadata": {},
   "outputs": [],
   "source": [
    "criterion = torch.nn.CrossEntropyLoss().to(device) # cross entropy 손실 함수를 사용했다.\n",
    "optimizer = torch.optim.Adam(model.parameters(), lr=learning_rate, weight_decay=0.001) # adam optimizer를 사용했다.\n",
    "exp_lr_scheduler = lr_scheduler.StepLR(optimizer, step_size=5, gamma=0.5) # 7 에폭마다 0.1씩 학습률 감소한다.\n",
    "total_batch = len(train_loader)"
   ]
  },
  {
   "cell_type": "code",
   "execution_count": 25,
   "metadata": {},
   "outputs": [],
   "source": [
    "# train 데이터에 대해 1 epoch 학습시키는 함수이다.\n",
    "def train_one_epoch(data_loader):\n",
    "    model.train()\n",
    "    running_loss = 0\n",
    "    total = 0\n",
    "    correct = 0\n",
    "    for images, labels in data_loader:\n",
    "        images, labels = images.to(device), labels.to(device)\n",
    "        \n",
    "        outputs = model(images)\n",
    "        loss = criterion(outputs, labels)\n",
    "        optimizer.zero_grad()\n",
    "        loss.backward()\n",
    "        optimizer.step()\n",
    "        \n",
    "        preds = torch.max(outputs, 1)[1]\n",
    "        correct += (preds == labels).sum()\n",
    "        total += len(labels)\n",
    "        running_loss += loss.detach()\n",
    "        \n",
    "    loss = (running_loss / len(data_loader)).item()\n",
    "    accuracy = (correct * 100 / total).item()\n",
    "    return loss, accuracy\n"
   ]
  },
  {
   "cell_type": "code",
   "execution_count": 26,
   "metadata": {},
   "outputs": [],
   "source": [
    "best_valid_acc = 0\n",
    "\n",
    "# 1 epoch validation 하는 함수이다.\n",
    "def eval_one_epoch(data_loader):\n",
    "    global best_valid_acc\n",
    "    \n",
    "    correct_pred = {classname: 0 for classname in classes}\n",
    "    total_pred = {classname: 0 for classname in classes}\n",
    "    model.eval()\n",
    "    running_loss = 0\n",
    "    with torch.no_grad():\n",
    "        total = 0\n",
    "        correct = 0\n",
    "        for images, labels in data_loader:\n",
    "            images, labels = images.to(device), labels.to(device)\n",
    "\n",
    "            outputs = model(images)\n",
    "            loss = criterion(outputs, labels)\n",
    "            preds = torch.max(outputs, 1)[1]\n",
    "            correct += (preds == labels).sum()\n",
    "            \n",
    "            for label, prediction in zip(labels, preds):\n",
    "                if label == prediction:\n",
    "                    correct_pred[classes[label]] += 1\n",
    "            total_pred[classes[label]] += 1\n",
    "\n",
    "            total += len(labels)\n",
    "            running_loss += loss.detach()\n",
    "        \n",
    "        loss = (running_loss / len(data_loader)).item()\n",
    "        accuracy = (correct * 100 / total).item()\n",
    "        if accuracy > best_valid_acc: # 현재 weights 중 가장 좋은 성능을 내는 weights를 저장한다.\n",
    "            if not is_binary:\n",
    "                torch.save(model, 'best_model.pt')\n",
    "            else:\n",
    "                torch.save(model, 'best_model_binary.pt')\n",
    "        return loss, accuracy, correct_pred, total_pred"
   ]
  },
  {
   "cell_type": "code",
   "execution_count": 27,
   "metadata": {},
   "outputs": [
    {
     "name": "stderr",
     "output_type": "stream",
     "text": [
      "epoch 15 ==> train acc: 99.81685638427734, valid acc: 97.56097412109375: 100%|██████████| 15/15 [04:33<00:00, 18.24s/it]\n"
     ]
    }
   ],
   "source": [
    "train_loss_hist = [] # 학습 중 loss 값을 저장하는 배열이다.\n",
    "train_acc_hist = [] # 학습 중 accuracy 값을 저장하는 배열이다.\n",
    "valid_loss_hist = [] # validation 중 loss 값을 저장하는 배열이다.\n",
    "valid_acc_hist = [] # validation 중 accuracy 값을 저장하는 배열이다.\n",
    "valid_class_acc_hist = {classname: [] for classname in classes} # validation 중 class별 accuracy 값을 저장하는 배열이다. 이 5개의 배열은 시각화 할 때 사용된다.\n",
    "\n",
    "# 위에서 정의한 epoch 수(15) 만큼 학습과 validation을 진행한다.\n",
    "pbar = tqdm(range(num_epochs))\n",
    "for epoch in pbar:\n",
    "    train_loss, train_acc = train_one_epoch(train_loader)\n",
    "    exp_lr_scheduler.step() # learning rate를 step마다 조절해준다.\n",
    "    train_loss_hist.append(train_loss)\n",
    "    train_acc_hist.append(train_acc)\n",
    "\n",
    "    valid_loss, valid_acc, correct_pred, total_pred = eval_one_epoch(valid_loader)\n",
    "    valid_loss_hist.append(valid_loss)\n",
    "    valid_acc_hist.append(valid_acc)\n",
    "    \n",
    "    for classname, correct_count in correct_pred.items():\n",
    "        accuracy = 100 * float(correct_count) / total_pred[classname]\n",
    "        valid_class_acc_hist[classname].append(accuracy)\n",
    "        \n",
    "    pbar.set_description(f\"epoch {epoch+1} ==> train acc: {train_acc}, valid acc: {valid_acc}\")\n"
   ]
  },
  {
   "cell_type": "code",
   "execution_count": 28,
   "metadata": {},
   "outputs": [
    {
     "data": {
      "image/png": "[encoded data removed]",
      "text/plain": [
       "<Figure size 720x360 with 1 Axes>"
      ]
     },
     "metadata": {
      "needs_background": "light"
     },
     "output_type": "display_data"
    },
    {
     "data": {
      "image/png": "[encoded data removed]",
      "text/plain": [
       "<Figure size 720x360 with 1 Axes>"
      ]
     },
     "metadata": {
      "needs_background": "light"
     },
     "output_type": "display_data"
    },
    {
     "data": {
      "image/png": "[encoded data removed]",
      "text/plain": [
       "<Figure size 720x360 with 1 Axes>"
      ]
     },
     "metadata": {
      "needs_background": "light"
     },
     "output_type": "display_data"
    }
   ],
   "source": [
    "# 결과를 시각화 한다.\n",
    "# 위에서부터 train, validation loss 그래프, train, validation accuracy 그래프, class별 validation accuracy 그래프를 의미한다.\n",
    "epochs = list(range(1, num_epochs + 1))\n",
    "plt.figure(figsize=(10, 5))\n",
    "plt.plot(epochs, train_loss_hist, label='Train loss')\n",
    "plt.plot(epochs, valid_loss_hist, label='Valid loss')\n",
    "plt.xlabel(\"#Epoch\")\n",
    "plt.ylabel(\"Loss\")\n",
    "plt.xticks(epochs)\n",
    "plt.legend()\n",
    "plt.show()\n",
    "\n",
    "plt.figure(figsize=(10, 5))\n",
    "plt.plot(epochs, train_acc_hist, label='Train accuracy')\n",
    "plt.plot(epochs, valid_acc_hist, label='Valid accuracy')\n",
    "plt.xlabel(\"#Epoch\")\n",
    "plt.ylabel(\"Accuracy\")\n",
    "plt.xticks(epochs)\n",
    "plt.legend()\n",
    "plt.show()\n",
    "\n",
    "plt.figure(figsize=(10, 5))\n",
    "for classname, accuracy in valid_class_acc_hist.items():\n",
    "    plt.plot(epochs, accuracy, label='%s' % classname)\n",
    "plt.xlabel(\"#Epoch\")\n",
    "plt.ylabel(\"Accuracy\")\n",
    "plt.xticks(epochs)\n",
    "plt.legend()\n",
    "plt.show()\n"
   ]
  }
 ],
 "metadata": {
  "interpreter": {
   "hash": "497ab7479fb4f7574b570701c3ca2c1272f30120aba318815fa8b51460d784dc"
  },
  "kernelspec": {
   "display_name": "Python 3.7.13 ('pytorch_env')",
   "language": "python",
   "name": "python3"
  },
  "language_info": {
   "codemirror_mode": {
    "name": "ipython",
    "version": 3
   },
   "file_extension": ".py",
   "mimetype": "text/x-python",
   "name": "python",
   "nbconvert_exporter": "python",
   "pygments_lexer": "ipython3",
   "version": "3.7.13"
  },
  "orig_nbformat": 4
 },
 "nbformat": 4,
 "nbformat_minor": 2
}
